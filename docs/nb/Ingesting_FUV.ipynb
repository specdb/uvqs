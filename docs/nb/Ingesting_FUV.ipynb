{
 "cells": [
  {
   "cell_type": "markdown",
   "metadata": {},
   "source": [
    "# Ingesting the FUV data"
   ]
  },
  {
   "cell_type": "code",
   "execution_count": 3,
   "metadata": {
    "collapsed": true
   },
   "outputs": [],
   "source": [
    "# imports\n",
    "import os\n",
    "\n",
    "from astropy.table import Table"
   ]
  },
  {
   "cell_type": "code",
   "execution_count": 9,
   "metadata": {
    "collapsed": false
   },
   "outputs": [
    {
     "data": {
      "text/plain": [
       "'/u/xavier/Dropbox/z1QSO/database/'"
      ]
     },
     "execution_count": 9,
     "metadata": {},
     "output_type": "execute_result"
    }
   ],
   "source": [
    "dpath = os.getenv('DROPBOX_DIR') + 'z1QSO/database/'\n",
    "dpath"
   ]
  },
  {
   "cell_type": "markdown",
   "metadata": {},
   "source": [
    "## Summary table"
   ]
  },
  {
   "cell_type": "code",
   "execution_count": 10,
   "metadata": {
    "collapsed": false
   },
   "outputs": [],
   "source": [
    "summ = Table.read(dpath+'uvq_dr1_v1.7.fits')"
   ]
  },
  {
   "cell_type": "code",
   "execution_count": 12,
   "metadata": {
    "collapsed": false
   },
   "outputs": [
    {
     "data": {
      "text/html": [
       "&lt;Table length=5&gt;\n",
       "<table id=\"table139782754808832\" class=\"table-striped table-bordered table-condensed\">\n",
       "<thead><tr><th>DEC</th><th>FUV</th><th>NAME</th><th>NUV</th><th>OBJ</th><th>OBJ_IDX</th><th>OBJ_IDX2</th><th>OBSV</th><th>OBS_DATE</th><th>RA</th><th>SCI_FILE</th><th>SCND_FILE</th><th>SPEC_QUAL</th><th>THETA [20]</th><th>W1</th><th>W2</th><th>Z</th><th>ZASS_FIL</th><th>Z_QUAL</th><th>Z_SIG</th><th>comment</th><th>dbx_path</th><th>instr</th><th>CAND</th><th>SPEC_FILE</th><th>FINDER</th></tr></thead>\n",
       "<thead><tr><th>deg</th><th></th><th></th><th></th><th></th><th></th><th></th><th></th><th></th><th>deg</th><th></th><th></th><th></th><th></th><th></th><th></th><th></th><th></th><th></th><th></th><th></th><th></th><th></th><th></th><th></th><th></th></tr></thead>\n",
       "<thead><tr><th>float64</th><th>float64</th><th>str80</th><th>float64</th><th>int64</th><th>int64</th><th>int64</th><th>str80</th><th>str80</th><th>float64</th><th>str80</th><th>str80</th><th>int64</th><th>float64</th><th>float64</th><th>float64</th><th>float64</th><th>str80</th><th>int64</th><th>float64</th><th>str80</th><th>str80</th><th>str80</th><th>int64</th><th>str148</th><th>str128</th></tr></thead>\n",
       "<tr><td>-20.0743611111</td><td>18.2729988098</td><td>UVQSJ000000.15-200427.7</td><td>17.9699993134</td><td>0</td><td>1</td><td>-1</td><td>LCO</td><td>Aug2014</td><td>0.000625</td><td>09aug2014/Science/sci-ccd0918.fits.gz</td><td></td><td>3</td><td>4.39948940277 .. 0.0</td><td>13.5480003357</td><td>12.5389995575</td><td>0.290799587965</td><td>LCO_09aug2014_zassess.fits</td><td>4</td><td>0.000171106687048</td><td></td><td>LCO/August2014</td><td>BCS</td><td>1</td><td>UVQSJ000000.15-200427.7_LCO.fits</td><td>UVQSJ000000.15-200427.7_DSS.pdf</td></tr>\n",
       "<tr><td>-16.5781666667</td><td>18.4766178131</td><td>UVQSJ000009.65-163441.4</td><td>17.7246189117</td><td>0</td><td>1</td><td>-1</td><td>LCO</td><td>Aug2014</td><td>0.0402083333333</td><td>09aug2014/Science/sci-ccd0914.fits.gz</td><td></td><td>3</td><td>2.00029587746 .. 0.0</td><td>13.4329996109</td><td>12.1940002441</td><td>1.97219014168</td><td>LCO_09aug2014_zassess.fits</td><td>2</td><td>0.000352645467501</td><td></td><td>LCO/August2014</td><td>BCS</td><td>1</td><td>UVQSJ000009.65-163441.4_LCO.fits</td><td>UVQSJ000009.65-163441.4_DSS.pdf</td></tr>\n",
       "<tr><td>-39.2966388889</td><td>17.8244285583</td><td>UVQSJ000503.70-391747.9</td><td>17.2321929932</td><td>0</td><td>0</td><td>-1</td><td>LCO</td><td>Aug2014</td><td>1.26541666667</td><td>07aug2014/Science/sci-ccd0645.fits.gz</td><td></td><td>3</td><td>8.0866317749 .. 0.0</td><td>12.2600002289</td><td>11.1239995956</td><td>0.652394294739</td><td>LCO_07aug2014_zassess.fits</td><td>3</td><td>0.000363261176972</td><td></td><td>LCO/August2014</td><td>BCS</td><td>1</td><td>UVQSJ000503.70-391747.9_LCO.fits</td><td>UVQSJ000503.70-391747.9_DSS.pdf</td></tr>\n",
       "<tr><td>-26.1945833333</td><td>18.1590518951</td><td>UVQSJ000609.57-261140.5</td><td>17.5298900604</td><td>0</td><td>1</td><td>-1</td><td>LCO</td><td>Aug2014</td><td>1.539875</td><td>09aug2014/Science/sci-ccd0920.fits.gz</td><td></td><td>3</td><td>5.21646022797 .. 0.0</td><td>13.3079996109</td><td>12.1239995956</td><td>0.648431241512</td><td>LCO_09aug2014_zassess.fits</td><td>3</td><td>0.000249826902291</td><td></td><td>LCO/August2014</td><td>BCS</td><td>1</td><td>UVQSJ000609.57-261140.5_LCO.fits</td><td>UVQSJ000609.57-261140.5_DSS.pdf</td></tr>\n",
       "<tr><td>32.2595833333</td><td>18.4244747162</td><td>UVQSJ000613.28+321534.5</td><td>17.9484100342</td><td>0</td><td>0</td><td>0</td><td>Lick</td><td>Jan2015</td><td>1.55533333333</td><td>Jan_2015/Science/sci-b333.fits.gz</td><td>Jan_2015/Science/sci-r333.fits.gz</td><td>2</td><td>3.36896729469 .. 0.0</td><td>12.9270000458</td><td>11.748000145</td><td>0.499262660742</td><td>Lick_jan2015_zassess.fits</td><td>2</td><td>0.000391669687815</td><td></td><td>Lick</td><td>Kast</td><td>1</td><td>UVQSJ000613.28+321534.5_Lick.fits</td><td>UVQSJ000613.28+321534.5_SDSS.pdf</td></tr>\n",
       "</table>"
      ],
      "text/plain": [
       "<Table length=5>\n",
       "     DEC            FUV      ...              FINDER             \n",
       "     deg                     ...                                 \n",
       "   float64        float64    ...              str128             \n",
       "-------------- ------------- ... --------------------------------\n",
       "-20.0743611111 18.2729988098 ...  UVQSJ000000.15-200427.7_DSS.pdf\n",
       "-16.5781666667 18.4766178131 ...  UVQSJ000009.65-163441.4_DSS.pdf\n",
       "-39.2966388889 17.8244285583 ...  UVQSJ000503.70-391747.9_DSS.pdf\n",
       "-26.1945833333 18.1590518951 ...  UVQSJ000609.57-261140.5_DSS.pdf\n",
       " 32.2595833333 18.4244747162 ... UVQSJ000613.28+321534.5_SDSS.pdf"
      ]
     },
     "execution_count": 12,
     "metadata": {},
     "output_type": "execute_result"
    }
   ],
   "source": [
    "summ[0:5]"
   ]
  },
  {
   "cell_type": "code",
   "execution_count": null,
   "metadata": {
    "collapsed": true
   },
   "outputs": [],
   "source": []
  }
 ],
 "metadata": {
  "kernelspec": {
   "display_name": "Python 3",
   "language": "python",
   "name": "python3"
  },
  "language_info": {
   "codemirror_mode": {
    "name": "ipython",
    "version": 3
   },
   "file_extension": ".py",
   "mimetype": "text/x-python",
   "name": "python",
   "nbconvert_exporter": "python",
   "pygments_lexer": "ipython3",
   "version": "3.6.0"
  }
 },
 "nbformat": 4,
 "nbformat_minor": 2
}
